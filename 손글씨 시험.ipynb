{
 "cells": [
  {
   "cell_type": "code",
   "execution_count": 17,
   "id": "ae450257",
   "metadata": {},
   "outputs": [],
   "source": [
    "import tensorflow as tf\n",
    "from tensorflow.keras.models import Sequential\n",
    "from tensorflow.keras.layers import Dense, Flatten, Conv2D, MaxPooling2D\n",
    "from tensorflow.keras.datasets import mnist\n",
    "from sklearn.model_selection import train_test_split"
   ]
  },
  {
   "cell_type": "code",
   "execution_count": 18,
   "id": "51966af4",
   "metadata": {},
   "outputs": [],
   "source": [
    "# 01. 주제 설명\n",
    "# 주제: 손글씨 숫자를 인식하는 인공지능 모델을 학습하고, 추론하는 시스템을 구현한다."
   ]
  },
  {
   "cell_type": "code",
   "execution_count": 19,
   "id": "efd918f4",
   "metadata": {},
   "outputs": [],
   "source": [
    "# 02. 수집대상 데이터 정의 및 코드\n",
    "# 사용할 데이터셋: MNIST 손글씨 숫자 데이터셋\n",
    "(x_train, y_train), (x_test, y_test) = mnist.load_data()"
   ]
  },
  {
   "cell_type": "code",
   "execution_count": 20,
   "id": "e26c377d",
   "metadata": {},
   "outputs": [],
   "source": [
    "# 03. 학습데이터와 검증데이터 분리 및 코드\n",
    "x_train, x_val, y_train, y_val = train_test_split(x_train, y_train, test_size=0.3, random_state=42)"
   ]
  },
  {
   "cell_type": "code",
   "execution_count": 21,
   "id": "1aff611b",
   "metadata": {},
   "outputs": [],
   "source": [
    "# 04. 추론 기능에 필요한 데이터 전처리 및 코드\n",
    "x_train = x_train.reshape((x_train.shape[0], 28, 28, 1)).astype('float32') / 255\n",
    "x_val = x_val.reshape((x_val.shape[0], 28, 28, 1)).astype('float32') / 255\n",
    "x_test = x_test.reshape((x_test.shape[0], 28, 28, 1)).astype('float32') / 255\n"
   ]
  },
  {
   "cell_type": "code",
   "execution_count": 22,
   "id": "1d537ee5",
   "metadata": {},
   "outputs": [
    {
     "name": "stdout",
     "output_type": "stream",
     "text": [
      "Epoch 1/5\n",
      "1313/1313 [==============================] - 14s 10ms/step - loss: 0.1705 - accuracy: 0.9481 - val_loss: 0.1101 - val_accuracy: 0.9665\n",
      "Epoch 2/5\n",
      "1313/1313 [==============================] - 13s 10ms/step - loss: 0.0578 - accuracy: 0.9822 - val_loss: 0.0604 - val_accuracy: 0.9814\n",
      "Epoch 3/5\n",
      "1313/1313 [==============================] - 12s 10ms/step - loss: 0.0363 - accuracy: 0.9888 - val_loss: 0.0565 - val_accuracy: 0.9829\n",
      "Epoch 4/5\n",
      "1313/1313 [==============================] - 13s 10ms/step - loss: 0.0240 - accuracy: 0.9927 - val_loss: 0.0563 - val_accuracy: 0.9833\n",
      "Epoch 5/5\n",
      "1313/1313 [==============================] - 13s 10ms/step - loss: 0.0170 - accuracy: 0.9950 - val_loss: 0.0638 - val_accuracy: 0.9814\n"
     ]
    },
    {
     "data": {
      "text/plain": [
       "<keras.src.callbacks.History at 0x22e27b419c0>"
      ]
     },
     "execution_count": 22,
     "metadata": {},
     "output_type": "execute_result"
    }
   ],
   "source": [
    "# 05. 인공지능 인지 기능 구현 및 코드\n",
    "model = Sequential([\n",
    "    Conv2D(32, kernel_size=(3, 3), activation='relu', input_shape=(28, 28, 1)),\n",
    "    MaxPooling2D(pool_size=(2, 2)),\n",
    "    Flatten(),\n",
    "    Dense(128, activation='relu'),\n",
    "    Dense(10, activation='softmax')\n",
    "])\n",
    "\n",
    "model.compile(optimizer='adam', loss='sparse_categorical_crossentropy', metrics=['accuracy'])\n",
    "model.fit(x_train, y_train, epochs=5, validation_data=(x_val, y_val))\n"
   ]
  },
  {
   "cell_type": "code",
   "execution_count": 23,
   "id": "a339ca27",
   "metadata": {
    "scrolled": true
   },
   "outputs": [
    {
     "name": "stdout",
     "output_type": "stream",
     "text": [
      "Model: \"sequential_2\"\n",
      "_________________________________________________________________\n",
      " Layer (type)                Output Shape              Param #   \n",
      "=================================================================\n",
      " conv2d_2 (Conv2D)           (None, 26, 26, 32)        320       \n",
      "                                                                 \n",
      " max_pooling2d_2 (MaxPoolin  (None, 13, 13, 32)        0         \n",
      " g2D)                                                            \n",
      "                                                                 \n",
      " flatten_2 (Flatten)         (None, 5408)              0         \n",
      "                                                                 \n",
      " dense_4 (Dense)             (None, 128)               692352    \n",
      "                                                                 \n",
      " dense_5 (Dense)             (None, 10)                1290      \n",
      "                                                                 \n",
      "=================================================================\n",
      "Total params: 693962 (2.65 MB)\n",
      "Trainable params: 693962 (2.65 MB)\n",
      "Non-trainable params: 0 (0.00 Byte)\n",
      "_________________________________________________________________\n"
     ]
    }
   ],
   "source": [
    "# 06. 모델 시각화 기능 구현 및 코드\n",
    "model.summary()"
   ]
  },
  {
   "cell_type": "code",
   "execution_count": 24,
   "id": "c8c846df",
   "metadata": {
    "scrolled": true
   },
   "outputs": [
    {
     "name": "stdout",
     "output_type": "stream",
     "text": [
      "313/313 [==============================] - 1s 2ms/step - loss: 0.0611 - accuracy: 0.9815\n",
      "Test Accuracy: 0.9815000295639038\n"
     ]
    }
   ],
   "source": [
    "# 07. 모델 평가 및 테스트 과정 코드\n",
    "test_loss, test_acc = model.evaluate(x_test, y_test)\n",
    "print(f'Test Accuracy: {test_acc}')"
   ]
  },
  {
   "cell_type": "code",
   "execution_count": 25,
   "id": "b5b6bee8",
   "metadata": {},
   "outputs": [
    {
     "name": "stdout",
     "output_type": "stream",
     "text": [
      "Model Evaluation Score: 0.9815000295639038\n"
     ]
    }
   ],
   "source": [
    "# 08. 모델 평가 점수 및 신뢰성 주석\n",
    "print(f'Model Evaluation Score: {test_acc}')\n",
    "# 주석: 테스트 정확도가 높아 신뢰할 만한 모델로 평가됨"
   ]
  },
  {
   "cell_type": "code",
   "execution_count": null,
   "id": "2065be98",
   "metadata": {},
   "outputs": [],
   "source": []
  }
 ],
 "metadata": {
  "kernelspec": {
   "display_name": "Python 3 (ipykernel)",
   "language": "python",
   "name": "python3"
  },
  "language_info": {
   "codemirror_mode": {
    "name": "ipython",
    "version": 3
   },
   "file_extension": ".py",
   "mimetype": "text/x-python",
   "name": "python",
   "nbconvert_exporter": "python",
   "pygments_lexer": "ipython3",
   "version": "3.10.13"
  }
 },
 "nbformat": 4,
 "nbformat_minor": 5
}
